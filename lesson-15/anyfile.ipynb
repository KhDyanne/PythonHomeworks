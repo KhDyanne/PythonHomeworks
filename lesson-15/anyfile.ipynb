{
 "cells": [
  {
   "cell_type": "code",
   "execution_count": 4,
   "metadata": {},
   "outputs": [
    {
     "name": "stdout",
     "output_type": "stream",
     "text": [
      "Vickie Little from Mackay, Australia\n"
     ]
    }
   ],
   "source": [
    "import json\n",
    "import requests\n",
    "\n",
    "url='https://randomuser.me/api/'\n",
    "response=requests.get(url)\n",
    "data=response.json()\n",
    "\n",
    "name=data['results'][0]['name']['first']+' '+data['results'][0]['name']['last']\n",
    "location=data['results'][0]['location']['city']+', '+data['results'][0]['location']['country']\n",
    "\n",
    "result=name+' from '+location\n",
    "print(result)\n"
   ]
  },
  {
   "cell_type": "code",
   "execution_count": 5,
   "metadata": {},
   "outputs": [
    {
     "name": "stdout",
     "output_type": "stream",
     "text": [
      "Weather in Grenoble: Overcast\n",
      "Temperature: 2.2C\n"
     ]
    }
   ],
   "source": [
    "apiKey='885422cd05b14d549aa110429250602'\n",
    "city='Grenoble'\n",
    "url=f'https://api.weatherapi.com/v1/current.json?key={apiKey}&q={city}&aqi=no'\n",
    "\n",
    "response=requests.get(url)\n",
    "data=response.json()\n",
    "\n",
    "condition=data['current']['condition']['text']\n",
    "temperature=data['current']['temp_c']\n",
    "\n",
    "weather_condition=f'Weather in {city}: {condition}\\nTemperature: {temperature}C'\n",
    "print(weather_condition)\n"
   ]
  },
  {
   "cell_type": "markdown",
   "metadata": {},
   "source": [
    "## Hometask"
   ]
  },
  {
   "cell_type": "code",
   "execution_count": 62,
   "metadata": {},
   "outputs": [
    {
     "name": "stdout",
     "output_type": "stream",
     "text": [
      "\n",
      "Weather in Grenoble: Sunny\n",
      "Temperature: 9.1°C\n",
      "\n",
      "Weather in Braunschweig: Overcast\n",
      "Temperature: 2.0°C\n",
      "\n",
      "Current Time in Grenoble: 2025-02-07 17:37:05 | Current Time in Braunschweig: 2025-02-07 17:37:05"
     ]
    },
    {
     "ename": "KeyboardInterrupt",
     "evalue": "",
     "output_type": "error",
     "traceback": [
      "\u001b[1;31m---------------------------------------------------------------------------\u001b[0m",
      "\u001b[1;31mKeyboardInterrupt\u001b[0m                         Traceback (most recent call last)",
      "Cell \u001b[1;32mIn[62], line 43\u001b[0m\n\u001b[0;32m     40\u001b[0m sys\u001b[39m.\u001b[39mstdout\u001b[39m.\u001b[39mwrite(\u001b[39mf\u001b[39m\u001b[39m\"\u001b[39m\u001b[39m\\r\u001b[39;00m\u001b[39mCurrent Time in \u001b[39m\u001b[39m{\u001b[39;00mcity1\u001b[39m}\u001b[39;00m\u001b[39m: \u001b[39m\u001b[39m{\u001b[39;00mtime1\u001b[39m}\u001b[39;00m\u001b[39m | Current Time in \u001b[39m\u001b[39m{\u001b[39;00mcity2\u001b[39m}\u001b[39;00m\u001b[39m: \u001b[39m\u001b[39m{\u001b[39;00mtime2\u001b[39m}\u001b[39;00m\u001b[39m\"\u001b[39m)\n\u001b[0;32m     41\u001b[0m sys\u001b[39m.\u001b[39mstdout\u001b[39m.\u001b[39mflush()\n\u001b[1;32m---> 43\u001b[0m time\u001b[39m.\u001b[39msleep(\u001b[39m1\u001b[39m)\n",
      "\u001b[1;31mKeyboardInterrupt\u001b[0m: "
     ]
    }
   ],
   "source": [
    "import requests\n",
    "import time\n",
    "from datetime import datetime\n",
    "import pytz\n",
    "import sys\n",
    "\n",
    "apiKey='885422cd05b14d549aa110429250602'\n",
    "city1='Grenoble'\n",
    "city2='Braunschweig'\n",
    "url1=f'https://api.weatherapi.com/v1/current.json?key={apiKey}&q={city1}&aqi=no'\n",
    "url2=f'https://api.weatherapi.com/v1/current.json?key={apiKey}&q={city2}&aqi=no'\n",
    "\n",
    "response1=requests.get(url1)\n",
    "data1=response1.json()\n",
    "\n",
    "response2=requests.get(url2)\n",
    "data2=response2.json()\n",
    "\n",
    "condition1=data1['current']['condition']['text']\n",
    "temperature1=data1['current']['temp_c']\n",
    "tz_id1=data1['location']['tz_id']\n",
    "zone1=pytz.timezone(tz_id1)\n",
    "\n",
    "condition2=data2['current']['condition']['text']\n",
    "temperature2=data2['current']['temp_c']\n",
    "tz_id2=data2['location']['tz_id']\n",
    "zone2=pytz.timezone(tz_id2)\n",
    "\n",
    "weather_condition_city1=f\"\\nWeather in {city1}: {condition1}\\nTemperature: {temperature1}°C\"\n",
    "weather_condition_city2=f\"\\nWeather in {city2}: {condition2}\\nTemperature: {temperature2}°C\\n\"\n",
    "\n",
    "print(weather_condition_city1)\n",
    "print(weather_condition_city2)\n",
    "\n",
    "\n",
    "while True:\n",
    "    time1 = datetime.now(zone1).strftime(\"%Y-%m-%d %H:%M:%S\")\n",
    "    time2 = datetime.now(zone2).strftime(\"%Y-%m-%d %H:%M:%S\") \n",
    "    \n",
    "    sys.stdout.write(f\"\\rCurrent Time in {city1}: {time1} | Current Time in {city2}: {time2}\")\n",
    "    sys.stdout.flush()\n",
    "    \n",
    "    time.sleep(1)"
   ]
  },
  {
   "cell_type": "code",
   "execution_count": 29,
   "metadata": {},
   "outputs": [
    {
     "name": "stdout",
     "output_type": "stream",
     "text": [
      "\n",
      "Weather in Grenoble: Sunny\n",
      "Temperature: 8.4°C\n",
      "\n",
      "Weather in Braunschweig: Sunny\n",
      "Temperature: 3.4°C\n",
      "Current Time in Braunschweig: 2025-02-08 11:43:19"
     ]
    },
    {
     "ename": "KeyboardInterrupt",
     "evalue": "",
     "output_type": "error",
     "traceback": [
      "\u001b[1;31m---------------------------------------------------------------------------\u001b[0m",
      "\u001b[1;31mKeyboardInterrupt\u001b[0m                         Traceback (most recent call last)",
      "Cell \u001b[1;32mIn[29], line 37\u001b[0m\n\u001b[0;32m     34\u001b[0m sys\u001b[39m.\u001b[39mstdout\u001b[39m.\u001b[39mwrite(\u001b[39mf\u001b[39m\u001b[39m\"\u001b[39m\u001b[39m\\r\u001b[39;00m\u001b[39mCurrent Time in \u001b[39m\u001b[39m{\u001b[39;00mcity\u001b[39m}\u001b[39;00m\u001b[39m: \u001b[39m\u001b[39m{\u001b[39;00mcurrent_time\u001b[39m}\u001b[39;00m\u001b[39m\"\u001b[39m)\n\u001b[0;32m     36\u001b[0m sys\u001b[39m.\u001b[39mstdout\u001b[39m.\u001b[39mflush()    \n\u001b[1;32m---> 37\u001b[0m time\u001b[39m.\u001b[39msleep(\u001b[39m1\u001b[39m)\n",
      "\u001b[1;31mKeyboardInterrupt\u001b[0m: "
     ]
    }
   ],
   "source": [
    "import requests\n",
    "import time\n",
    "from datetime import datetime\n",
    "import pytz\n",
    "import sys\n",
    "\n",
    "apiKey='885422cd05b14d549aa110429250602'\n",
    "cities=['Grenoble','Braunschweig']\n",
    "\n",
    "def weather_condition(city):\n",
    "    url=f'https://api.weatherapi.com/v1/current.json?key={apiKey}&q={city}&aqi=no'\n",
    "    response=requests.get(url)\n",
    "    data=response.json()\n",
    "\n",
    "    condition=data['current']['condition']['text']\n",
    "    temperature=data['current']['temp_c']\n",
    "    \n",
    "    \n",
    "    return f\"\\nWeather in {city}: {condition}\\nTemperature: {temperature}°C\"\n",
    "\n",
    "for city in cities:\n",
    "    print(weather_condition(city))\n",
    "    \n",
    "while True:         \n",
    "    \n",
    "      url=f'https://api.weatherapi.com/v1/current.json?key={apiKey}&q={city}&aqi=no'\n",
    "      response=requests.get(url)\n",
    "      data=response.json()  \n",
    "      tz_id=data['location']['tz_id']\n",
    "      zone=pytz.timezone(tz_id)\n",
    "      \n",
    "      current_time = datetime.now(zone).strftime(\"%Y-%m-%d %H:%M:%S\")\n",
    "    \n",
    "      sys.stdout.write(f\"\\rCurrent Time in {city}: {current_time}\")\n",
    "   \n",
    "      sys.stdout.flush()    \n",
    "      time.sleep(1)\n",
    "      \n",
    "      \n",
    "\n",
    "      \n",
    "\n",
    "\n",
    "    "
   ]
  },
  {
   "cell_type": "code",
   "execution_count": 18,
   "metadata": {},
   "outputs": [
    {
     "name": "stdout",
     "output_type": "stream",
     "text": [
      "Current Time in Grenoble: 2025-02-07 14:02:06\r"
     ]
    },
    {
     "ename": "KeyboardInterrupt",
     "evalue": "",
     "output_type": "error",
     "traceback": [
      "\u001b[1;31m---------------------------------------------------------------------------\u001b[0m",
      "\u001b[1;31mKeyboardInterrupt\u001b[0m                         Traceback (most recent call last)",
      "Cell \u001b[1;32mIn[18], line 16\u001b[0m\n\u001b[0;32m     13\u001b[0m \u001b[39mprint\u001b[39m(\u001b[39mf\u001b[39m\u001b[39m\"\u001b[39m\u001b[39mCurrent Time in Grenoble: \u001b[39m\u001b[39m{\u001b[39;00mgrenoble_time\u001b[39m}\u001b[39;00m\u001b[39m\"\u001b[39m, end\u001b[39m=\u001b[39m\u001b[39m\"\u001b[39m\u001b[39m\\r\u001b[39;00m\u001b[39m\"\u001b[39m, flush\u001b[39m=\u001b[39m\u001b[39mTrue\u001b[39;00m)\n\u001b[0;32m     15\u001b[0m \u001b[39m# Update every second\u001b[39;00m\n\u001b[1;32m---> 16\u001b[0m time\u001b[39m.\u001b[39msleep(\u001b[39m1\u001b[39m)\n",
      "\u001b[1;31mKeyboardInterrupt\u001b[0m: "
     ]
    }
   ],
   "source": [
    "from datetime import datetime\n",
    "import pytz\n",
    "import time\n",
    "\n",
    "# Define the timezone for Grenoble\n",
    "grenoble_tz = pytz.timezone(\"Europe/Paris\")\n",
    "\n",
    "while True:\n",
    "    # Get the current time in Grenoble\n",
    "    grenoble_time = datetime.now(grenoble_tz).strftime(\"%Y-%m-%d %H:%M:%S\")\n",
    "    \n",
    "    # Print the time dynamically\n",
    "    print(f\"Current Time in Grenoble: {grenoble_time}\", end=\"\\r\", flush=True)\n",
    "    \n",
    "    # Update every second\n",
    "    time.sleep(1)\n"
   ]
  },
  {
   "cell_type": "code",
   "execution_count": null,
   "metadata": {},
   "outputs": [],
   "source": []
  }
 ],
 "metadata": {
  "kernelspec": {
   "display_name": "Python 3",
   "language": "python",
   "name": "python3"
  },
  "language_info": {
   "codemirror_mode": {
    "name": "ipython",
    "version": 3
   },
   "file_extension": ".py",
   "mimetype": "text/x-python",
   "name": "python",
   "nbconvert_exporter": "python",
   "pygments_lexer": "ipython3",
   "version": "3.11.0"
  },
  "orig_nbformat": 4
 },
 "nbformat": 4,
 "nbformat_minor": 2
}
